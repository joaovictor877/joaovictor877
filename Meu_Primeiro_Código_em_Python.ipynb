{
  "nbformat": 4,
  "nbformat_minor": 0,
  "metadata": {
    "colab": {
      "provenance": [],
      "toc_visible": true,
      "authorship_tag": "ABX9TyNritiJfezL3LdXLNayN6u1"
    },
    "kernelspec": {
      "name": "python3",
      "display_name": "Python 3"
    },
    "language_info": {
      "name": "python"
    }
  },
  "cells": [
    {
      "cell_type": "markdown",
      "source": [
        "# Primeiro Passos"
      ],
      "metadata": {
        "id": "l0KEQZqRah4a"
      }
    },
    {
      "cell_type": "code",
      "source": [
        "# +código\n",
        "\n",
        "\"\"\"\n",
        "No Python, precisamos usar 3 aspas duplas\n",
        "assim o python entende que é um comentário\n",
        "e não interpreta quando executar\n",
        "\"\"\""
      ],
      "metadata": {
        "colab": {
          "base_uri": "https://localhost:8080/",
          "height": 35
        },
        "id": "knwEQ6GWaqDn",
        "outputId": "755d7c65-71b7-45f2-b96d-21bbf87a2ab2"
      },
      "execution_count": null,
      "outputs": [
        {
          "output_type": "execute_result",
          "data": {
            "text/plain": [
              "'\\nNo Python, precisamos usar 3 aspas duplas\\nassim o python entende que é um comentário\\ne não interpreta quando executar\\n'"
            ],
            "application/vnd.google.colaboratory.intrinsic+json": {
              "type": "string"
            }
          },
          "metadata": {},
          "execution_count": 6
        }
      ]
    },
    {
      "cell_type": "markdown",
      "source": [
        "# Imprimir Resultado na tela"
      ],
      "metadata": {
        "id": "1wMnG7tVcqAE"
      }
    },
    {
      "cell_type": "code",
      "source": [
        "nome = \"João Victor Silva\" # \"string\"\n",
        "print(nome)"
      ],
      "metadata": {
        "colab": {
          "base_uri": "https://localhost:8080/"
        },
        "id": "OOmQVxRZbTby",
        "outputId": "b142e132-1c7a-44d5-df9b-a6136c99259c"
      },
      "execution_count": null,
      "outputs": [
        {
          "output_type": "stream",
          "name": "stdout",
          "text": [
            "João Victor Silva\n"
          ]
        }
      ]
    },
    {
      "cell_type": "code",
      "source": [
        "nome = 25 + 12\n",
        "print(nome)"
      ],
      "metadata": {
        "colab": {
          "base_uri": "https://localhost:8080/"
        },
        "id": "zVbmtYzMeoa5",
        "outputId": "83d757c1-8d8d-47d6-dd80-4319f65211f5"
      },
      "execution_count": null,
      "outputs": [
        {
          "output_type": "stream",
          "name": "stdout",
          "text": [
            "37\n"
          ]
        }
      ]
    },
    {
      "cell_type": "code",
      "source": [
        "nome_Usuario = \"João Victor\"; sobreNome_Usuario = \"Silva Souza\"\n",
        "print(nome_Usuario + sobre_Nome_Usuario)"
      ],
      "metadata": {
        "colab": {
          "base_uri": "https://localhost:8080/"
        },
        "id": "p3rQ-05uf0mI",
        "outputId": "f70dc6f8-a99f-4c14-e752-c15eb6f49545"
      },
      "execution_count": null,
      "outputs": [
        {
          "output_type": "stream",
          "name": "stdout",
          "text": [
            "João VictorSilva Souza\n"
          ]
        }
      ]
    },
    {
      "cell_type": "code",
      "source": [
        "nome_Usuario = \"João Victor\" ; sobreNome_Usuario = \"Silva Souza\"\n",
        "print(nome_Usuario, sobreNome_Usuario)"
      ],
      "metadata": {
        "colab": {
          "base_uri": "https://localhost:8080/"
        },
        "id": "O5m5Sba2gfQe",
        "outputId": "cd4ba2c1-b9aa-41b0-8ece-59635bf249cd"
      },
      "execution_count": null,
      "outputs": [
        {
          "output_type": "stream",
          "name": "stdout",
          "text": [
            "João Victor Silva Souza\n"
          ]
        }
      ]
    },
    {
      "cell_type": "code",
      "source": [
        "print(\"Nome:\", nome_Usuario)\n",
        "print(\"Sobrenome:\", sobreNome_Usuario)"
      ],
      "metadata": {
        "colab": {
          "base_uri": "https://localhost:8080/"
        },
        "id": "1j99oi9Qhb3X",
        "outputId": "304f280f-07aa-423e-d3f3-944d43481ee4"
      },
      "execution_count": null,
      "outputs": [
        {
          "output_type": "stream",
          "name": "stdout",
          "text": [
            "Nome: João Victor\n",
            "Sobrenome: Silva Souza\n"
          ]
        }
      ]
    }
  ]
}